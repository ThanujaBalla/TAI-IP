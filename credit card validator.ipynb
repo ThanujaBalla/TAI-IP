{
 "cells": [
  {
   "cell_type": "code",
   "execution_count": 8,
   "id": "fe5fd4c4",
   "metadata": {},
   "outputs": [
    {
     "name": "stdout",
     "output_type": "stream",
     "text": [
      "enter your credit card number for validation :jvy6754uys4536 2367 1786\n",
      "6754453623671786\n",
      "Your card is not valid!\n"
     ]
    }
   ],
   "source": [
    "import re\n",
    "\n",
    "def card_validation(card_number):\n",
    "    total=0\n",
    "    flag=False\n",
    "    for i in range(len(card_number)-1,-1,-1):\n",
    "        number=int(card_number[i])\n",
    "        if(flag):\n",
    "            number=number*2\n",
    "        number+=number//10\n",
    "        number+=number%10\n",
    "        total+=number\n",
    "        if(flag):\n",
    "            flag=False\n",
    "        else:\n",
    "            flag=True\n",
    "    if total%10==0:\n",
    "        return True\n",
    "    return False\n",
    "    \n",
    "card_number=input(\"enter your credit card number for validation :\")\n",
    "card_number=re.sub(r\"[^0-9]\",\"\",card_number)\n",
    "print(card_number)\n",
    "if(card_validation(card_number)):\n",
    "    print(\"Your card is valid!\")\n",
    "else:\n",
    "    print(\"Your card is not valid!\")\n"
   ]
  }
 ],
 "metadata": {
  "kernelspec": {
   "display_name": "Python 3 (ipykernel)",
   "language": "python",
   "name": "python3"
  },
  "language_info": {
   "codemirror_mode": {
    "name": "ipython",
    "version": 3
   },
   "file_extension": ".py",
   "mimetype": "text/x-python",
   "name": "python",
   "nbconvert_exporter": "python",
   "pygments_lexer": "ipython3",
   "version": "3.10.9"
  }
 },
 "nbformat": 4,
 "nbformat_minor": 5
}
